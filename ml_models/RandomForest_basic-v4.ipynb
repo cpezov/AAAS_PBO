{
 "cells": [
  {
   "cell_type": "code",
   "execution_count": null,
   "metadata": {},
   "outputs": [],
   "source": [
    "#Random Forest trained with basic data, with data augmentation SAME for each label and using labels-v4"
   ]
  },
  {
   "cell_type": "code",
   "execution_count": 1,
   "metadata": {
    "id": "wYo1Kzrt1yjN"
   },
   "outputs": [],
   "source": [
    "import numpy as np\n",
    "import pandas as pd\n",
    "import random\n",
    "from sklearn.ensemble import RandomForestClassifier\n",
    "from sklearn import metrics"
   ]
  },
  {
   "cell_type": "code",
   "execution_count": 2,
   "metadata": {},
   "outputs": [],
   "source": [
    "# nombre de instancia\n",
    "# número restricciones\n",
    "# número variables\n",
    "# timestep\n",
    "# solver (label)\n",
    "\n",
    "main_path=\"/global/scratch/users/cpezov/AAPBO/\"\n",
    "d_path=main_path+\"datasets-v4/\"\n",
    "\n",
    "columns = [\"# constraints\",\"# variables\",\"timestep\",\"solver\"]\n",
    "\n",
    "df = pd.read_csv(main_path+\"data_features.csv\", usecols=columns)\n",
    "solvers=df[\"solver\"].to_list()"
   ]
  },
  {
   "cell_type": "code",
   "execution_count": 3,
   "metadata": {},
   "outputs": [
    {
     "name": "stdout",
     "output_type": "stream",
     "text": [
      "(1027000, 3)\n",
      "(537000, 3)\n",
      "(1027000, 1)\n",
      "(537000, 1)\n"
     ]
    }
   ],
   "source": [
    "x=df[['# variables','# constraints','timestep']]\n",
    "y=df[['solver']]\n",
    "\n",
    "#agrupar diferentes timestpes de cada instancia en un mismo set\n",
    "random.seed(9) #same seed to generate same random numbers as other models\n",
    "train_indx=[]\n",
    "inst_train=[]\n",
    "test_indx=[]\n",
    "for i in range(0,3128): # v4\n",
    "    r = random.randint(0,2)\n",
    "    if(r==2):\n",
    "        for j in range(0,500):\n",
    "            test_indx.append(500*i+j)\n",
    "    else:\n",
    "        inst_train.append(i)\n",
    "        for j in range(0,500):\n",
    "            train_indx.append(500*i+j)\n",
    "\n",
    "x_train=x.iloc[train_indx]\n",
    "x_test=x.iloc[test_indx]\n",
    "y_train=y.iloc[train_indx]\n",
    "y_test=y.iloc[test_indx]\n",
    "y_train_og=y.iloc[train_indx]\n",
    "\n",
    "print(x_train.shape)\n",
    "print(x_test.shape)\n",
    "print(y_train.shape)\n",
    "print(y_test.shape)"
   ]
  },
  {
   "cell_type": "code",
   "execution_count": 4,
   "metadata": {},
   "outputs": [
    {
     "name": "stdout",
     "output_type": "stream",
     "text": [
      "674500\n",
      "1027000\n",
      "\n",
      "(1701500, 3)\n",
      "(537000, 3)\n",
      "(1701500, 1)\n",
      "(537000, 1)\n"
     ]
    }
   ],
   "source": [
    "#Data augmentation para training set de instancias con clases distintas a gurobi (5)\n",
    "\n",
    "indx_dis=[] #indexes of instances with disadvantaged labels \n",
    "\n",
    "#identificar instancias que tengan clase distinta a gurobi\n",
    "for i in inst_train:\n",
    "    has_dis=False\n",
    "    for j in range(500):\n",
    "        ind=500*i+j\n",
    "        if(solvers[ind]!=5):\n",
    "            has_dis=True\n",
    "            break\n",
    "    if(has_dis):\n",
    "        for j in range(500):\n",
    "            indx_dis.append(500*i+j)\n",
    "\n",
    "print(len(indx_dis))\n",
    "print(len(train_indx), end=\"\\n\\n\")            \n",
    "\n",
    "#agregar las instancias al final de x_train e y_train\n",
    "x_train_dis=x.iloc[indx_dis]\n",
    "y_train_dis=y.iloc[indx_dis]\n",
    "\n",
    "x_train=pd.concat([x_train,x_train_dis])\n",
    "y_train=pd.concat([y_train,y_train_dis])\n",
    "\n",
    "print(x_train.shape)\n",
    "print(x_test.shape)\n",
    "print(y_train.shape)\n",
    "print(y_test.shape)"
   ]
  },
  {
   "cell_type": "code",
   "execution_count": 5,
   "metadata": {
    "id": "6EMSYXS33yW6"
   },
   "outputs": [
    {
     "data": {
      "text/html": [
       "<style>#sk-container-id-1 {color: black;background-color: white;}#sk-container-id-1 pre{padding: 0;}#sk-container-id-1 div.sk-toggleable {background-color: white;}#sk-container-id-1 label.sk-toggleable__label {cursor: pointer;display: block;width: 100%;margin-bottom: 0;padding: 0.3em;box-sizing: border-box;text-align: center;}#sk-container-id-1 label.sk-toggleable__label-arrow:before {content: \"▸\";float: left;margin-right: 0.25em;color: #696969;}#sk-container-id-1 label.sk-toggleable__label-arrow:hover:before {color: black;}#sk-container-id-1 div.sk-estimator:hover label.sk-toggleable__label-arrow:before {color: black;}#sk-container-id-1 div.sk-toggleable__content {max-height: 0;max-width: 0;overflow: hidden;text-align: left;background-color: #f0f8ff;}#sk-container-id-1 div.sk-toggleable__content pre {margin: 0.2em;color: black;border-radius: 0.25em;background-color: #f0f8ff;}#sk-container-id-1 input.sk-toggleable__control:checked~div.sk-toggleable__content {max-height: 200px;max-width: 100%;overflow: auto;}#sk-container-id-1 input.sk-toggleable__control:checked~label.sk-toggleable__label-arrow:before {content: \"▾\";}#sk-container-id-1 div.sk-estimator input.sk-toggleable__control:checked~label.sk-toggleable__label {background-color: #d4ebff;}#sk-container-id-1 div.sk-label input.sk-toggleable__control:checked~label.sk-toggleable__label {background-color: #d4ebff;}#sk-container-id-1 input.sk-hidden--visually {border: 0;clip: rect(1px 1px 1px 1px);clip: rect(1px, 1px, 1px, 1px);height: 1px;margin: -1px;overflow: hidden;padding: 0;position: absolute;width: 1px;}#sk-container-id-1 div.sk-estimator {font-family: monospace;background-color: #f0f8ff;border: 1px dotted black;border-radius: 0.25em;box-sizing: border-box;margin-bottom: 0.5em;}#sk-container-id-1 div.sk-estimator:hover {background-color: #d4ebff;}#sk-container-id-1 div.sk-parallel-item::after {content: \"\";width: 100%;border-bottom: 1px solid gray;flex-grow: 1;}#sk-container-id-1 div.sk-label:hover label.sk-toggleable__label {background-color: #d4ebff;}#sk-container-id-1 div.sk-serial::before {content: \"\";position: absolute;border-left: 1px solid gray;box-sizing: border-box;top: 0;bottom: 0;left: 50%;z-index: 0;}#sk-container-id-1 div.sk-serial {display: flex;flex-direction: column;align-items: center;background-color: white;padding-right: 0.2em;padding-left: 0.2em;position: relative;}#sk-container-id-1 div.sk-item {position: relative;z-index: 1;}#sk-container-id-1 div.sk-parallel {display: flex;align-items: stretch;justify-content: center;background-color: white;position: relative;}#sk-container-id-1 div.sk-item::before, #sk-container-id-1 div.sk-parallel-item::before {content: \"\";position: absolute;border-left: 1px solid gray;box-sizing: border-box;top: 0;bottom: 0;left: 50%;z-index: -1;}#sk-container-id-1 div.sk-parallel-item {display: flex;flex-direction: column;z-index: 1;position: relative;background-color: white;}#sk-container-id-1 div.sk-parallel-item:first-child::after {align-self: flex-end;width: 50%;}#sk-container-id-1 div.sk-parallel-item:last-child::after {align-self: flex-start;width: 50%;}#sk-container-id-1 div.sk-parallel-item:only-child::after {width: 0;}#sk-container-id-1 div.sk-dashed-wrapped {border: 1px dashed gray;margin: 0 0.4em 0.5em 0.4em;box-sizing: border-box;padding-bottom: 0.4em;background-color: white;}#sk-container-id-1 div.sk-label label {font-family: monospace;font-weight: bold;display: inline-block;line-height: 1.2em;}#sk-container-id-1 div.sk-label-container {text-align: center;}#sk-container-id-1 div.sk-container {/* jupyter's `normalize.less` sets `[hidden] { display: none; }` but bootstrap.min.css set `[hidden] { display: none !important; }` so we also need the `!important` here to be able to override the default hidden behavior on the sphinx rendered scikit-learn.org. See: https://github.com/scikit-learn/scikit-learn/issues/21755 */display: inline-block !important;position: relative;}#sk-container-id-1 div.sk-text-repr-fallback {display: none;}</style><div id=\"sk-container-id-1\" class=\"sk-top-container\"><div class=\"sk-text-repr-fallback\"><pre>RandomForestClassifier(random_state=3)</pre><b>In a Jupyter environment, please rerun this cell to show the HTML representation or trust the notebook. <br />On GitHub, the HTML representation is unable to render, please try loading this page with nbviewer.org.</b></div><div class=\"sk-container\" hidden><div class=\"sk-item\"><div class=\"sk-estimator sk-toggleable\"><input class=\"sk-toggleable__control sk-hidden--visually\" id=\"sk-estimator-id-1\" type=\"checkbox\" checked><label for=\"sk-estimator-id-1\" class=\"sk-toggleable__label sk-toggleable__label-arrow\">RandomForestClassifier</label><div class=\"sk-toggleable__content\"><pre>RandomForestClassifier(random_state=3)</pre></div></div></div></div></div>"
      ],
      "text/plain": [
       "RandomForestClassifier(random_state=3)"
      ]
     },
     "execution_count": 5,
     "metadata": {},
     "output_type": "execute_result"
    }
   ],
   "source": [
    "rf_model = RandomForestClassifier(n_estimators=100, max_features=\"sqrt\", criterion=\"gini\",random_state=3)\n",
    "rf_model.fit(x_train, y_train.values.ravel())"
   ]
  },
  {
   "cell_type": "code",
   "execution_count": 6,
   "metadata": {
    "id": "Y50dWweV3xxM"
   },
   "outputs": [],
   "source": [
    "y_pred = rf_model.predict(x_test)"
   ]
  },
  {
   "cell_type": "code",
   "execution_count": 7,
   "metadata": {},
   "outputs": [
    {
     "name": "stdout",
     "output_type": "stream",
     "text": [
      "Accuracy 0.658024208566108\n"
     ]
    },
    {
     "name": "stderr",
     "output_type": "stream",
     "text": [
      "/global/software/rocky-8.x86_64/manual/modules/langs/anaconda3/2024.02-1/lib/python3.11/site-packages/sklearn/base.py:439: UserWarning: X does not have valid feature names, but RandomForestClassifier was fitted with feature names\n",
      "  warnings.warn(\n"
     ]
    },
    {
     "name": "stdout",
     "output_type": "stream",
     "text": [
      "Loss 4.488117284725465\n"
     ]
    }
   ],
   "source": [
    "print(\"Accuracy\",metrics.accuracy_score(y_test.values.ravel(), y_pred))\n",
    "pred = rf_model.predict_proba(np.nan_to_num(x_test.astype(np.float32)))\n",
    "print(\"Loss\",metrics.log_loss(y_test.values.ravel(), pred))"
   ]
  },
  {
   "cell_type": "code",
   "execution_count": 9,
   "metadata": {},
   "outputs": [],
   "source": [
    "#Save\n",
    "l=int(len(y_test)/500)\n",
    "y_test_np=y_test.to_numpy().reshape(l,500)\n",
    "f = open(main_path+\"models/v4/randomForest_basic-v4/results/y_test.txt\", \"w\")\n",
    "np.savetxt(f,y_test_np.reshape(y_test_np.shape[0], -1),fmt=\"%s\")\n",
    "f.close()\n",
    "\n",
    "l=int(len(y_pred)/500)\n",
    "y_pred_np=y_pred.reshape(l,500)\n",
    "f = open(main_path+\"models/v4/randomForest_basic-v4/results/y_preds.txt\", \"w\")\n",
    "np.savetxt(f,y_pred_np.reshape(y_pred_np.shape[0],-1),fmt='%s')\n",
    "f.close()\n",
    "\n",
    "#print(y_pred_np.shape)\n",
    "#print(y_pred_np)"
   ]
  },
  {
   "cell_type": "code",
   "execution_count": 10,
   "metadata": {},
   "outputs": [],
   "source": [
    "l=int(len(y_train)/500)\n",
    "y_train_np=y_train.to_numpy().reshape(l,500)\n",
    "f = open(main_path+\"models/v4/randomForest_basic-v4/results/y_train.txt\", \"w\")\n",
    "np.savetxt(f,y_train_np.reshape(y_train_np.shape[0], -1),fmt=\"%s\")\n",
    "f.close()\n",
    "\n",
    "l=int(len(y_train_og)/500)\n",
    "y_train_og_np=y_train_og.to_numpy().reshape(l,500)\n",
    "f = open(main_path+\"models/v4/randomForest_basic-v4/results/y_train_og.txt\", \"w\")\n",
    "np.savetxt(f,y_train_og_np.reshape(y_train_og_np.shape[0], -1),fmt=\"%s\")\n",
    "f.close()"
   ]
  },
  {
   "cell_type": "code",
   "execution_count": 8,
   "metadata": {
    "id": "Vaa0er8T318F"
   },
   "outputs": [
    {
     "name": "stdout",
     "output_type": "stream",
     "text": [
      "Importance of feature # variables is 0.42274635980414477\n",
      "Importance of feature # constraints is 0.5148210167201089\n",
      "Importance of feature timestep is 0.062432623475746296\n",
      "0.658024208566108\n"
     ]
    }
   ],
   "source": [
    "#Feature importances\n",
    "importances = rf_model.feature_importances_\n",
    "feats = x.columns\n",
    "\n",
    "#f=open(main_path+\"models/v4/randomForest_basic-v4/results/features_and_acc.txt\", \"w\")\n",
    "\n",
    "i=0\n",
    "while i < len(feats):\n",
    "    print(\"Importance of feature \"+feats[i]+\" is \"+str(importances[i]))\n",
    "    #f.write(\"Importance of feature \"+feats[i]+\" is \"+str(importances[i]))\n",
    "    i = i+1\n",
    "\n",
    "print(metrics.accuracy_score(y_test.values.ravel(), y_pred))\n",
    "#f.write(\"Testing accuracy: \"+str(metrics.accuracy_score(y_test.values.ravel(), y_pred)))\n",
    "\n",
    "#f.close()"
   ]
  },
  {
   "cell_type": "markdown",
   "metadata": {
    "id": "RcQzgIUl4wDf"
   },
   "source": [
    "https://data36.com/random-forest-in-python/\n"
   ]
  },
  {
   "cell_type": "code",
   "execution_count": 9,
   "metadata": {},
   "outputs": [
    {
     "name": "stdout",
     "output_type": "stream",
     "text": [
      "Accuracy SBS 0.4712905027932961\n"
     ]
    }
   ],
   "source": [
    "y_sbs=np.full(537000,5)\n",
    "print(\"Accuracy SBS\",metrics.accuracy_score(y_test.values.ravel(), y_sbs))"
   ]
  },
  {
   "cell_type": "markdown",
   "metadata": {},
   "source": [
    "# Prediction Time"
   ]
  },
  {
   "cell_type": "code",
   "execution_count": 9,
   "metadata": {},
   "outputs": [],
   "source": [
    "#Calcular tiempos de predicción por cada par instancia-tiempo de test\n",
    "#(Correr esto se demora 1 hora aprox)\n",
    "\n",
    "import time\n",
    "\n",
    "l=int(len(y_pred)/500)\n",
    "t_preds=np.empty(l*500)\n",
    "i=0\n",
    "\n",
    "#prediccion\n",
    "for idx in test_indx:\n",
    "    #crear dataframe de solo esa instancia-timestep\n",
    "    x_i = x.iloc[[idx]]\n",
    "    \n",
    "    #hacer predicción y medir tiempo\n",
    "    start=time.time()\n",
    "    y_i = rf_model.predict(np.nan_to_num(x_i.astype(np.float32)))\n",
    "    tiempo=time.time()-start\n",
    "    t_preds[i]=tiempo\n",
    "    \n",
    "    i=i+1"
   ]
  },
  {
   "cell_type": "code",
   "execution_count": 10,
   "metadata": {},
   "outputs": [
    {
     "name": "stdout",
     "output_type": "stream",
     "text": [
      "[0.01595569 0.01180959 0.01125669 ... 0.0069685  0.00697351 0.00707412]\n"
     ]
    }
   ],
   "source": [
    "#Guardar tiempos de prediccion\n",
    "\n",
    "print(t_preds)\n",
    "f = open(main_path+\"models/results-v4/pred_times/t_pred_randomForest_basic-v4.txt\", \"w\")\n",
    "np.savetxt(f, t_preds, delimiter=\" \", fmt=\"%s\")\n",
    "f.close()"
   ]
  }
 ],
 "metadata": {
  "colab": {
   "name": "RandomForest.ipynb",
   "provenance": []
  },
  "kernelspec": {
   "display_name": "Python 3 (ipykernel)",
   "language": "python",
   "name": "python3"
  },
  "language_info": {
   "codemirror_mode": {
    "name": "ipython",
    "version": 3
   },
   "file_extension": ".py",
   "mimetype": "text/x-python",
   "name": "python",
   "nbconvert_exporter": "python",
   "pygments_lexer": "ipython3",
   "version": "3.11.7"
  }
 },
 "nbformat": 4,
 "nbformat_minor": 4
}
