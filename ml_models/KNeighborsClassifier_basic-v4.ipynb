{
 "cells": [
  {
   "cell_type": "code",
   "execution_count": null,
   "metadata": {},
   "outputs": [],
   "source": [
    "#KNN trained with basic data, with data augmentation SAME for each label and using labels-v4"
   ]
  },
  {
   "cell_type": "code",
   "execution_count": 1,
   "metadata": {
    "id": "wYo1Kzrt1yjN"
   },
   "outputs": [],
   "source": [
    "import numpy as np\n",
    "import pandas as pd\n",
    "import random\n",
    "from sklearn.neighbors import KNeighborsClassifier\n",
    "from sklearn import metrics\n",
    "import os\n",
    "import time"
   ]
  },
  {
   "cell_type": "code",
   "execution_count": 2,
   "metadata": {
    "id": "RCZ74GCCErSK"
   },
   "outputs": [],
   "source": [
    "# nombre de instancia\n",
    "# número restricciones\n",
    "# número variables\n",
    "# timestep\n",
    "# solver (label)\n",
    "\n",
    "main_path=\"/global/scratch/users/cpezov/AAPBO/\"\n",
    "d_path=main_path+\"datasets-v4/\"\n",
    "\n",
    "columns = [\"# variables\",\"# constraints\",\"timestep\",\"solver\"]\n",
    "names=[]\n",
    "num_var=[]\n",
    "num_rest=[]\n",
    "timestep=[]\n",
    "solvers=[]\n",
    "\n",
    "#Recolectar data de txt files\n",
    "with open(d_path+\"txt_files/inst_info.txt\") as f:\n",
    "    lines = f.readlines()\n",
    "    for l in lines:\n",
    "        words=l.split()\n",
    "        for n in range(0,500): #repetir 500 cada instancia, para que cuadre con los timesteps\n",
    "            names.append(words[0])\n",
    "            num_var.append(int(words[2]))\n",
    "            num_rest.append(int(words[3]))\n",
    "            timestep.append(n)\n",
    "        \n",
    "with open(main_path+\"labels-v4.txt\") as f:\n",
    "    lines = f.readlines()\n",
    "    for l in lines:\n",
    "        for word in l.split():\n",
    "            solvers.append(int(word))"
   ]
  },
  {
   "cell_type": "code",
   "execution_count": 3,
   "metadata": {},
   "outputs": [],
   "source": [
    "#Crear dataframe\n",
    "# dataframe with no names, so that it doesn't convert everything to str \n",
    "data=np.array([num_var,num_rest,timestep,solvers])\n",
    "df = pd.DataFrame(data.T, columns=columns)\n",
    "            \n",
    "#print(df.head())"
   ]
  },
  {
   "cell_type": "code",
   "execution_count": 4,
   "metadata": {},
   "outputs": [
    {
     "name": "stdout",
     "output_type": "stream",
     "text": [
      "(1027000, 3)\n",
      "(537000, 3)\n",
      "(1027000, 1)\n",
      "(537000, 1)\n"
     ]
    }
   ],
   "source": [
    "x=df[['# variables','# constraints','timestep']]\n",
    "y=df[['solver']]\n",
    "\n",
    "#agrupar diferentes timestpes de cada instancia en un mismo set\n",
    "random.seed(9) #same seed to generate same random numbers as other models\n",
    "train_indx=[]\n",
    "inst_train=[]\n",
    "test_indx=[]\n",
    "for i in range(0,3128): # v4\n",
    "    r = random.randint(0,2)\n",
    "    if(r==2):\n",
    "        for j in range(0,500):\n",
    "            test_indx.append(500*i+j)\n",
    "    else:\n",
    "        inst_train.append(i)\n",
    "        for j in range(0,500):\n",
    "            train_indx.append(500*i+j)\n",
    "\n",
    "x_train=x.iloc[train_indx]\n",
    "x_test=x.iloc[test_indx]\n",
    "y_train=y.iloc[train_indx]\n",
    "y_test=y.iloc[test_indx]\n",
    "y_train_og=y.iloc[train_indx]\n",
    "\n",
    "print(x_train.shape)\n",
    "print(x_test.shape)\n",
    "print(y_train.shape)\n",
    "print(y_test.shape)"
   ]
  },
  {
   "cell_type": "code",
   "execution_count": 5,
   "metadata": {},
   "outputs": [
    {
     "name": "stdout",
     "output_type": "stream",
     "text": [
      "674500\n",
      "1027000\n",
      "\n",
      "(1701500, 3)\n",
      "(537000, 3)\n",
      "(1701500, 1)\n",
      "(537000, 1)\n"
     ]
    }
   ],
   "source": [
    "#Data augmentation para training set de instancias con clases distintas a gurobi (5)\n",
    "\n",
    "indx_dis=[] #indexes of instances with disadvantaged labels \n",
    "\n",
    "#identificar instancias que tengan clase distinta a gurobi\n",
    "for i in inst_train:\n",
    "    has_dis=False\n",
    "    for j in range(500):\n",
    "        ind=500*i+j\n",
    "        if(solvers[ind]!=5):\n",
    "            has_dis=True\n",
    "            break\n",
    "    if(has_dis):\n",
    "        for j in range(500):\n",
    "            indx_dis.append(500*i+j)\n",
    "\n",
    "print(len(indx_dis))\n",
    "print(len(train_indx), end=\"\\n\\n\")            \n",
    "\n",
    "#agregar las instancias al final de x_train e y_train\n",
    "x_train_dis=x.iloc[indx_dis]\n",
    "y_train_dis=y.iloc[indx_dis]\n",
    "\n",
    "x_train=x_train.append(x_train_dis)\n",
    "y_train=y_train.append(y_train_dis)\n",
    "\n",
    "print(x_train.shape)\n",
    "print(x_test.shape)\n",
    "print(y_train.shape)\n",
    "print(y_test.shape)"
   ]
  },
  {
   "cell_type": "code",
   "execution_count": 6,
   "metadata": {
    "id": "6EMSYXS33yW6"
   },
   "outputs": [
    {
     "data": {
      "text/plain": [
       "KNeighborsClassifier(algorithm='auto', leaf_size=30, metric='minkowski',\n",
       "                     metric_params=None, n_jobs=None, n_neighbors=13, p=2,\n",
       "                     weights='uniform')"
      ]
     },
     "execution_count": 6,
     "metadata": {},
     "output_type": "execute_result"
    }
   ],
   "source": [
    "knn_model = KNeighborsClassifier(n_neighbors=13)\n",
    "knn_model.fit(np.nan_to_num(x_train.astype(np.float32)), y_train.values.ravel())"
   ]
  },
  {
   "cell_type": "code",
   "execution_count": 7,
   "metadata": {
    "id": "Y50dWweV3xxM"
   },
   "outputs": [],
   "source": [
    "y_pred = knn_model.predict(np.nan_to_num(x_test.astype(np.float32)))"
   ]
  },
  {
   "cell_type": "code",
   "execution_count": 8,
   "metadata": {},
   "outputs": [
    {
     "name": "stdout",
     "output_type": "stream",
     "text": [
      "Accuracy 0.6225009310986964\n",
      "Loss 9.278508984200345\n"
     ]
    }
   ],
   "source": [
    "print(\"Accuracy\",metrics.accuracy_score(y_test.values.ravel(), y_pred))\n",
    "pred = knn_model.predict_proba(np.nan_to_num(x_test.astype(np.float32)))\n",
    "print(\"Loss\",metrics.log_loss(y_test.values.ravel(), pred))"
   ]
  },
  {
   "cell_type": "code",
   "execution_count": 9,
   "metadata": {},
   "outputs": [],
   "source": [
    "#Save\n",
    "l=int(len(y_test)/500)\n",
    "y_test_np=y_test.to_numpy().reshape(l,500)\n",
    "f = open(main_path+\"models/v4/knn_basic-v4/results/y_test.txt\", \"w\")\n",
    "np.savetxt(f,y_test_np.reshape(y_test_np.shape[0], -1),fmt=\"%s\")\n",
    "f.close()\n",
    "\n",
    "l=int(len(y_pred)/500)\n",
    "y_pred_np=y_pred.reshape(l,500)\n",
    "f = open(main_path+\"models/v4/knn_basic-v4/results/y_preds.txt\", \"w\")\n",
    "np.savetxt(f,y_pred_np.reshape(y_pred_np.shape[0],-1),fmt='%s')\n",
    "f.close()\n",
    "\n",
    "#print(y_train_np.shape)\n",
    "#print(y_pred_np)"
   ]
  },
  {
   "cell_type": "code",
   "execution_count": 10,
   "metadata": {},
   "outputs": [],
   "source": [
    "l=int(len(y_train)/500)\n",
    "y_train_np=y_train.to_numpy().reshape(l,500)\n",
    "f = open(main_path+\"models/v4/knn_basic-v4/results/y_train.txt\", \"w\")\n",
    "np.savetxt(f,y_train_np.reshape(y_train_np.shape[0], -1),fmt=\"%s\")\n",
    "f.close()\n",
    "\n",
    "l=int(len(y_train_og)/500)\n",
    "y_train_og_np=y_train_og.to_numpy().reshape(l,500)\n",
    "f = open(main_path+\"models/v4/knn_basic-v4/results/y_train_og.txt\", \"w\")\n",
    "np.savetxt(f,y_train_og_np.reshape(y_train_og_np.shape[0], -1),fmt=\"%s\")\n",
    "f.close()"
   ]
  },
  {
   "cell_type": "markdown",
   "metadata": {},
   "source": [
    "# Prediction Time"
   ]
  },
  {
   "cell_type": "code",
   "execution_count": 9,
   "metadata": {},
   "outputs": [],
   "source": [
    "#Calcular tiempos de predicción por cada par instancia-tiempo de test\n",
    "#(Correr esto se demora 1 hora aprox)\n",
    "\n",
    "l=int(len(y_pred)/500)\n",
    "t_preds=np.empty(l*500)\n",
    "i=0\n",
    "\n",
    "#prediccion\n",
    "for idx in test_indx:\n",
    "    #crear dataframe de solo esa instancia-timestep\n",
    "    x_i = x.iloc[[idx]]\n",
    "    \n",
    "    #hacer predicción y medir tiempo\n",
    "    start=time.time()\n",
    "    y_i = knn_model.predict(np.nan_to_num(x_i.astype(np.float32)))\n",
    "    tiempo=time.time()-start\n",
    "    t_preds[i]=tiempo\n",
    "    \n",
    "    i=i+1"
   ]
  },
  {
   "cell_type": "code",
   "execution_count": 10,
   "metadata": {},
   "outputs": [
    {
     "name": "stdout",
     "output_type": "stream",
     "text": [
      "[0.00397921 0.00147891 0.00150657 ... 0.00078201 0.00077939 0.00077605]\n"
     ]
    }
   ],
   "source": [
    "#Guardar tiempos de prediccion\n",
    "\n",
    "print(t_preds)\n",
    "f = open(main_path+\"models/results-v4/pred_times/t_pred_knn_basic-v4.txt\", \"w\")\n",
    "np.savetxt(f, t_preds, delimiter=\" \", fmt=\"%s\")\n",
    "f.close()"
   ]
  }
 ],
 "metadata": {
  "colab": {
   "name": "RandomForest.ipynb",
   "provenance": []
  },
  "kernelspec": {
   "display_name": "Python 3.7",
   "language": "python",
   "name": "python3"
  },
  "language_info": {
   "codemirror_mode": {
    "name": "ipython",
    "version": 3
   },
   "file_extension": ".py",
   "mimetype": "text/x-python",
   "name": "python",
   "nbconvert_exporter": "python",
   "pygments_lexer": "ipython3",
   "version": "3.7.4"
  }
 },
 "nbformat": 4,
 "nbformat_minor": 1
}
