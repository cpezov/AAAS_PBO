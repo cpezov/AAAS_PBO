{
 "cells": [
  {
   "cell_type": "code",
   "execution_count": 1,
   "metadata": {
    "id": "iGGNBq7pExua"
   },
   "outputs": [],
   "source": [
    "import numpy as np\n",
    "import pandas as pd\n",
    "import os\n",
    "import random\n",
    "import matplotlib.pyplot as plt\n",
    "from pathlib import Path\n",
    "import cv2\n",
    "import time\n",
    "from PIL import Image\n",
    "import datetime\n",
    "from tensorflow import keras\n",
    "from tensorflow.keras import layers\n",
    "from tensorflow.keras import initializers\n",
    "from tensorflow.keras.models import Sequential, Model, load_model, model_from_json\n",
    "from tensorflow.keras.layers import Dense, Conv2D, Input, Convolution2D, ZeroPadding2D, MaxPooling2D, Flatten, Dropout, Activation\n",
    "from tensorflow.keras.preprocessing import image\n",
    "from tensorflow.keras.preprocessing.image import load_img\n",
    "from tensorflow.keras.preprocessing.image import img_to_array\n",
    "from tensorflow.keras.applications import vgg16\n",
    "from tensorflow.keras.utils import to_categorical  \n",
    "from tensorflow.keras.callbacks import ModelCheckpoint, EarlyStopping, TensorBoard\n",
    "from tensorflow.keras.optimizers import SGD, Adam\n",
    "from sklearn import model_selection\n",
    "from sklearn.metrics import confusion_matrix, classification_report, multilabel_confusion_matrix"
   ]
  },
  {
   "cell_type": "code",
   "execution_count": 2,
   "metadata": {
    "colab": {
     "base_uri": "https://localhost:8080/"
    },
    "id": "uMehMDI3eVja",
    "outputId": "59066dc9-b376-4cad-e75d-dc9e7c5d510a"
   },
   "outputs": [
    {
     "name": "stdout",
     "output_type": "stream",
     "text": [
      "X Train: 2054\n",
      "X Test: 1074\n",
      "Y Train: 2054\n",
      "Y Test: 1074\n"
     ]
    }
   ],
   "source": [
    "#/global/scratch/users/cpezov/AAPBO/images/BenchmarkX/file_name.png\n",
    "#/global/scratch/users/cpezov/AAPBO/labels.txt\n",
    "\n",
    "x_train_all = []\n",
    "y_train_all = []\n",
    "x_test = []\n",
    "y_test = []\n",
    "\n",
    "main_path=\"/global/scratch/users/cpezov/AAPBO/\"\n",
    "d_path = main_path + \"datasets-v4/\"\n",
    "i_path = main_path + \"images/\"\n",
    "\n",
    "num_class=8 #7 solvers and \"No solution\"   #v4\n",
    "\n",
    "#Get each one of the images, in order\n",
    "#Randomly assign to test/train set, per family\n",
    "random.seed(9)\n",
    "with open(d_path+\"txt_files/data_ordered.txt\") as f:\n",
    "    lines = f.readlines()\n",
    "    for l in lines:\n",
    "        r = random.randint(0,2)\n",
    "        end = l.rfind(\".\")\n",
    "        img_name = i_path + l[2:end] + \".png\"\n",
    "        #print(img_name)\n",
    "        file_name = d_path + l[2:]\n",
    "        #print(file_name)\n",
    "        if(r==2):\n",
    "            x_test.append(img_to_array(load_img(img_name,color_mode=\"grayscale\")))\n",
    "        else:\n",
    "            x_train_all.append(img_to_array(load_img(img_name,color_mode=\"grayscale\")))\n",
    "        \n",
    "print(\"X Train: \"+str(len(x_train_all)))\n",
    "print(\"X Test: \"+str(len(x_test)))\n",
    "\n",
    "#read labels and transform to one-hot\n",
    "random.seed(9) #same seed to generate same random numbers as before \n",
    "with open(main_path+\"labels-v4.txt\") as f: #v4\n",
    "    lines = f.readlines()\n",
    "    for l in lines:\n",
    "        r = random.randint(0,2)\n",
    "        lbls = [int(x) for x in l.split()]\n",
    "        one_hot = to_categorical(lbls, num_classes=num_class)\n",
    "        if(r==2):\n",
    "            y_test.append(one_hot)\n",
    "        else:\n",
    "            y_train_all.append(one_hot)\n",
    "            \n",
    "print(\"Y Train: \"+str(len(y_train_all)))\n",
    "print(\"Y Test: \"+str(len(y_test)))\n",
    "            \n",
    "#x_train, x_test, y_train, y_test = model_selection.train_test_split (x, y, test_size=1./3.)\n",
    "\n",
    "x_test = np.array(x_test)\n",
    "y_test = np.array(y_test)"
   ]
  },
  {
   "cell_type": "code",
   "execution_count": 3,
   "metadata": {},
   "outputs": [
    {
     "name": "stdout",
     "output_type": "stream",
     "text": [
      "(1645, 256, 256, 1)\n",
      "(1645, 500, 8)\n",
      "(409, 256, 256, 1)\n",
      "(409, 500, 8)\n"
     ]
    }
   ],
   "source": [
    "#Once separated train/test, the train set must be separated train/validation in 80:20 (4:1) ratio\n",
    "\n",
    "x_train = []\n",
    "y_train = []\n",
    "x_val = []\n",
    "y_val = []\n",
    "\n",
    "random.seed(3)\n",
    "for i in range(len(y_train_all)):\n",
    "    r = random.randint(0,4)\n",
    "    if(r==4):\n",
    "        x_val.append(x_train_all[i])\n",
    "        y_val.append(y_train_all[i])\n",
    "    else:\n",
    "        x_train.append(x_train_all[i])\n",
    "        y_train.append(y_train_all[i])\n",
    "\n",
    "x_train = np.array(x_train)\n",
    "y_train = np.array(y_train)\n",
    "x_val = np.array(x_val)\n",
    "y_val = np.array(y_val)\n",
    "\n",
    "print(x_train.shape)\n",
    "print(y_train.shape)\n",
    "print(x_val.shape)\n",
    "print(y_val.shape)"
   ]
  },
  {
   "cell_type": "code",
   "execution_count": 4,
   "metadata": {},
   "outputs": [
    {
     "name": "stdout",
     "output_type": "stream",
     "text": [
      "Model: \"sequential\"\n",
      "_________________________________________________________________\n",
      "Layer (type)                 Output Shape              Param #   \n",
      "=================================================================\n",
      "vgg16 (Functional)           (None, 8, 8, 512)         14713536  \n",
      "_________________________________________________________________\n",
      "flatten (Flatten)            (None, 32768)             0         \n",
      "_________________________________________________________________\n",
      "dense (Dense)                (None, 4096)              134221824 \n",
      "_________________________________________________________________\n",
      "dropout (Dropout)            (None, 4096)              0         \n",
      "_________________________________________________________________\n",
      "dense_1 (Dense)              (None, 4096)              16781312  \n",
      "_________________________________________________________________\n",
      "dropout_1 (Dropout)          (None, 4096)              0         \n",
      "_________________________________________________________________\n",
      "dense_2 (Dense)              (None, 4000)              16388000  \n",
      "_________________________________________________________________\n",
      "reshape (Reshape)            (None, 500, 8)            0         \n",
      "=================================================================\n",
      "Total params: 182,104,672\n",
      "Trainable params: 182,104,672\n",
      "Non-trainable params: 0\n",
      "_________________________________________________________________\n"
     ]
    }
   ],
   "source": [
    "img_size=256\n",
    "input_shape = (img_size,img_size,1) #resolucion imagen original\n",
    "loss=\"categorical_crossentropy\"\n",
    "opt = Adam(lr = 0.0001,epsilon=1e-08) \n",
    "\n",
    "#Modelo\n",
    "vgg16_model = vgg16.VGG16(include_top=False, weights=None, input_tensor=None, input_shape=input_shape, pooling=max, classes=num_class) #primera parte de la arquitectura\n",
    "\n",
    "model = keras.Sequential()\n",
    "\n",
    "model.add(vgg16_model)\n",
    "model.add(keras.layers.Flatten())\n",
    "model.add(keras.layers.Dense(4096, activation='relu'))\n",
    "model.add(keras.layers.Dropout(0.5))\n",
    "model.add(keras.layers.Dense(4096, activation='relu'))\n",
    "model.add(keras.layers.Dropout(0.5))\n",
    "model.add(keras.layers.Dense(500*num_class, activation='softmax'))  #cantidad de clases q quieres clasificar (8 clases en one-hot encoding, 500 timesteps)\n",
    "model.add(keras.layers.Reshape((500, num_class)))\n",
    "\n",
    "model.compile(loss=loss, optimizer=opt, metrics=['acc', 'mse'])      \n",
    "model.summary() #ver resumen red\n"
   ]
  },
  {
   "cell_type": "code",
   "execution_count": 5,
   "metadata": {
    "id": "5rX5NaXmeLNi"
   },
   "outputs": [
    {
     "name": "stdout",
     "output_type": "stream",
     "text": [
      "Epoch 1/1000\n",
      " 1/26 [>.............................] - ETA: 0s - loss: 2.0874 - acc: 0.1234 - mse: 0.1249WARNING:tensorflow:From /global/software/sl-7.x86_64/modules/apps/ml/tensorflow/2.3.0-py37/lib/python3.7/site-packages/tensorflow/python/ops/summary_ops_v2.py:1277: stop (from tensorflow.python.eager.profiler) is deprecated and will be removed after 2020-07-01.\n",
      "Instructions for updating:\n",
      "use `tf.profiler.experimental.stop` instead.\n",
      " 2/26 [=>............................] - ETA: 25s - loss: 2.0749 - acc: 0.1594 - mse: 0.1249WARNING:tensorflow:Callbacks method `on_train_batch_end` is slow compared to the batch time (batch time: 0.5831s vs `on_train_batch_end` time: 1.4977s). Check your callbacks.\n",
      "26/26 [==============================] - ETA: 0s - loss: 1.8730 - acc: 0.3832 - mse: 0.1249\n",
      "Epoch 00001: val_acc improved from -inf to 0.46386, saving model to /global/scratch/users/cpezov/AAPBO/models/v4/vgg-v4/models/model.h5\n",
      "26/26 [==============================] - 87s 3s/step - loss: 1.8730 - acc: 0.3832 - mse: 0.1249 - val_loss: 1.6741 - val_acc: 0.4639 - val_mse: 0.1249\n",
      "Epoch 2/1000\n",
      "26/26 [==============================] - ETA: 0s - loss: 1.6578 - acc: 0.4694 - mse: 0.1249\n",
      "Epoch 00002: val_acc did not improve from 0.46386\n",
      "26/26 [==============================] - 66s 3s/step - loss: 1.6578 - acc: 0.4694 - mse: 0.1249 - val_loss: 1.6502 - val_acc: 0.4639 - val_mse: 0.1249\n",
      "Epoch 3/1000\n",
      "26/26 [==============================] - ETA: 0s - loss: 1.6511 - acc: 0.4723 - mse: 0.1249\n",
      "Epoch 00003: val_acc did not improve from 0.46386\n",
      "26/26 [==============================] - 64s 2s/step - loss: 1.6511 - acc: 0.4723 - mse: 0.1249 - val_loss: 1.6751 - val_acc: 0.4639 - val_mse: 0.1248\n",
      "Epoch 4/1000\n",
      "26/26 [==============================] - ETA: 0s - loss: 1.6325 - acc: 0.4725 - mse: 0.1249\n",
      "Epoch 00004: val_acc did not improve from 0.46386\n",
      "26/26 [==============================] - 64s 2s/step - loss: 1.6325 - acc: 0.4725 - mse: 0.1249 - val_loss: 1.6473 - val_acc: 0.4639 - val_mse: 0.1249\n",
      "Epoch 5/1000\n",
      "26/26 [==============================] - ETA: 0s - loss: 1.6037 - acc: 0.4727 - mse: 0.1249\n",
      "Epoch 00005: val_acc did not improve from 0.46386\n",
      "26/26 [==============================] - 64s 2s/step - loss: 1.6037 - acc: 0.4727 - mse: 0.1249 - val_loss: 1.6380 - val_acc: 0.4639 - val_mse: 0.1249\n",
      "Epoch 6/1000\n",
      "26/26 [==============================] - ETA: 0s - loss: 1.6146 - acc: 0.4727 - mse: 0.1249\n",
      "Epoch 00006: val_acc did not improve from 0.46386\n",
      "26/26 [==============================] - 64s 2s/step - loss: 1.6146 - acc: 0.4727 - mse: 0.1249 - val_loss: 1.6530 - val_acc: 0.4639 - val_mse: 0.1249\n",
      "Epoch 7/1000\n",
      "26/26 [==============================] - ETA: 0s - loss: 1.6040 - acc: 0.4727 - mse: 0.1249\n",
      "Epoch 00007: val_acc did not improve from 0.46386\n",
      "26/26 [==============================] - 64s 2s/step - loss: 1.6040 - acc: 0.4727 - mse: 0.1249 - val_loss: 1.6302 - val_acc: 0.4639 - val_mse: 0.1249\n",
      "Epoch 8/1000\n",
      "26/26 [==============================] - ETA: 0s - loss: 1.5969 - acc: 0.4727 - mse: 0.1249\n",
      "Epoch 00008: val_acc did not improve from 0.46386\n",
      "26/26 [==============================] - 64s 2s/step - loss: 1.5969 - acc: 0.4727 - mse: 0.1249 - val_loss: 1.6354 - val_acc: 0.4639 - val_mse: 0.1249\n",
      "Epoch 9/1000\n",
      "26/26 [==============================] - ETA: 0s - loss: 1.5932 - acc: 0.4728 - mse: 0.1249\n",
      "Epoch 00009: val_acc did not improve from 0.46386\n",
      "26/26 [==============================] - 64s 2s/step - loss: 1.5932 - acc: 0.4728 - mse: 0.1249 - val_loss: 1.6225 - val_acc: 0.4639 - val_mse: 0.1249\n",
      "Epoch 10/1000\n",
      "26/26 [==============================] - ETA: 0s - loss: 1.5811 - acc: 0.4728 - mse: 0.1249\n",
      "Epoch 00010: val_acc did not improve from 0.46386\n",
      "26/26 [==============================] - 64s 2s/step - loss: 1.5811 - acc: 0.4728 - mse: 0.1249 - val_loss: 1.6403 - val_acc: 0.4639 - val_mse: 0.1249\n",
      "Epoch 11/1000\n",
      "26/26 [==============================] - ETA: 0s - loss: 1.6099 - acc: 0.4728 - mse: 0.1249\n",
      "Epoch 00011: val_acc did not improve from 0.46386\n",
      "26/26 [==============================] - 64s 2s/step - loss: 1.6099 - acc: 0.4728 - mse: 0.1249 - val_loss: 1.6695 - val_acc: 0.4639 - val_mse: 0.1249\n",
      "Epoch 00011: early stopping\n"
     ]
    }
   ],
   "source": [
    "# regularizadores\n",
    "log_dir = main_path+\"models/v4/vgg-v4/logs/fit/\" + datetime.datetime.now().strftime(\"%Y%m%d-%H%M%S\")\n",
    "tb = TensorBoard(log_dir=log_dir, histogram_freq=1)\n",
    "mc = ModelCheckpoint(main_path+'models/v4/vgg-v4/models/model.h5', monitor='val_acc', mode='max', verbose=1, save_best_only=True)\n",
    "es = EarlyStopping(monitor='val_acc',mode='max',patience=10, verbose=1)\n",
    "\n",
    "# fit model\n",
    "#posiblemente cambiar cant de epochs\n",
    "vgg16L_HISTORY = model.fit(x=x_train, y=y_train, batch_size=64, epochs=1000, validation_data=(x_val,y_val), shuffle=True, verbose = 1,callbacks=[es,mc,tb])"
   ]
  },
  {
   "cell_type": "code",
   "execution_count": 6,
   "metadata": {
    "id": "ElCujAflL0NW"
   },
   "outputs": [
    {
     "name": "stdout",
     "output_type": "stream",
     "text": [
      "Saved model to disk\n",
      " 1/34 [..............................] - ETA: 0sWARNING:tensorflow:Callbacks method `on_predict_batch_end` is slow compared to the batch time (batch time: 0.0128s vs `on_predict_batch_end` time: 0.2805s). Check your callbacks.\n",
      "34/34 [==============================] - 12s 341ms/step\n"
     ]
    }
   ],
   "source": [
    "#Save info\n",
    "model_json = model.to_json()\n",
    "with open(main_path+\"models/v4/vgg-v4/models/model.json\", \"w\") as json_file:\n",
    "    json_file.write(model_json)\n",
    "# serialize weights to HDF5\n",
    "model.save_weights(main_path+\"models/v4/vgg-v4/models/model.h5\")\n",
    "print(\"Saved model to disk\")\n",
    "\n",
    "f = open(main_path+\"models/v4/vgg-v4/results/y_test.txt\", \"w\")\n",
    "np.savetxt(f,y_test.reshape(y_test.shape[0], -1))\n",
    "f.close()\n",
    "\n",
    "f = open(main_path+\"models/v4/vgg-v4/results/y_train.txt\", \"w\")\n",
    "np.savetxt(f,y_train.reshape(y_train.shape[0], -1))\n",
    "f.close()\n",
    "\n",
    "y_pred_onehot = model.predict(x_test, verbose=1)\n",
    "f = open(main_path+\"models/v4/vgg-v4/results/y_preds_onehot.txt\", \"w\")\n",
    "np.savetxt(f,y_pred_onehot.reshape(y_pred_onehot.shape[0], -1))\n",
    "f.close()\n",
    "\n",
    "y_pred = np.argmax(y_pred_onehot, axis=2)\n",
    "f = open(main_path+\"models/v4/vgg-v4/results/y_preds.txt\", \"w\")\n",
    "np.savetxt(f,y_pred.reshape(y_pred.shape[0], -1))\n",
    "f.close()"
   ]
  },
  {
   "cell_type": "code",
   "execution_count": 7,
   "metadata": {
    "id": "T03whB0-Lzql"
   },
   "outputs": [
    {
     "name": "stdout",
     "output_type": "stream",
     "text": [
      "34/34 [==============================] - 10s 288ms/step - loss: 1.6271 - acc: 0.4713 - mse: 0.1249\n",
      "MODEL Metric names:  ['loss', 'acc', 'mse']\n",
      "loss: 1.6270666122436523\n",
      "accuracy: 0.4712904989719391\n",
      "mse: 0.1248830184340477\n",
      "HISTORY Keys:  dict_keys(['loss', 'acc', 'mse', 'val_loss', 'val_acc', 'val_mse'])\n"
     ]
    },
    {
     "data": {
      "image/png": "[encoded data removed]",
      "text/plain": [
       "<Figure size 432x288 with 1 Axes>"
      ]
     },
     "metadata": {
      "needs_background": "light"
     },
     "output_type": "display_data"
    },
    {
     "data": {
      "image/png": "[encoded data removed]",
      "text/plain": [
       "<Figure size 432x288 with 1 Axes>"
      ]
     },
     "metadata": {
      "needs_background": "light"
     },
     "output_type": "display_data"
    },
    {
     "data": {
      "text/plain": [
       "<Figure size 432x288 with 0 Axes>"
      ]
     },
     "metadata": {},
     "output_type": "display_data"
    }
   ],
   "source": [
    "#Graficos\n",
    "'''\n",
    "#Matriz de confusion\n",
    "lab = [x for x in range(0,num_class)]\n",
    "matrix = multilabel_confusion_matrix(y_test.argmax(axis=1), y_pred.argmax(axis=1), labels = lab)\n",
    "print(matrix)\n",
    "\n",
    "import seaborn as sns\n",
    "\n",
    "ax= plt.subplot()\n",
    "sns.heatmap(matrix, annot=True, ax = ax); #annot=True to annotate cells\n",
    "plt.savefig(fname = \"/global/scratch/users/cpezov/AAPBO/models/v4/vgg-v4/results/confMat.png\")\n",
    "'''\n",
    "#model.load_weights(\"/global/scratch/users/cpezov/AAPBO/models/v4/vgg-v4/models/model.h5\") #cargalo de tu ruta\n",
    "score = model.evaluate(x_test, y_test,verbose=1)\n",
    "print(\"MODEL Metric names: \", model.metrics_names)\n",
    "print(\"loss:\", score[0])\n",
    "print(\"accuracy:\", score[1])\n",
    "print(\"mse:\", score[2])\n",
    "\n",
    "print(\"HISTORY Keys: \", vgg16L_HISTORY.history.keys())\n",
    "plt.figure(0)\n",
    "plt.plot(vgg16L_HISTORY.history['acc'])\n",
    "plt.plot(vgg16L_HISTORY.history['val_acc'])\n",
    "plt.title(\"Training Accuracy\") \n",
    "plt.ylabel('accuracy')\n",
    "plt.xlabel('epoch')\n",
    "plt.legend(['train', 'validation'], loc='upper left')\n",
    "plt.savefig(main_path+'models/v4/vgg-v4/results/acc_graph.png')\n",
    "\n",
    "# summarize history for loss\n",
    "plt.figure(1)\n",
    "plt.plot(vgg16L_HISTORY.history['loss'])\n",
    "plt.plot(vgg16L_HISTORY.history['val_loss'])\n",
    "plt.title(\"Training Loss\")\n",
    "plt.ylabel('loss')\n",
    "plt.xlabel('epoch')\n",
    "plt.legend(['train', 'validation'], loc='upper left')\n",
    "plt.show()\n",
    "plt.savefig(main_path+'models/v4/vgg-v4/results/loss_graph.png')"
   ]
  },
  {
   "cell_type": "markdown",
   "metadata": {},
   "source": [
    "# Prediction Time"
   ]
  },
  {
   "cell_type": "code",
   "execution_count": 4,
   "metadata": {},
   "outputs": [
    {
     "name": "stdout",
     "output_type": "stream",
     "text": [
      "Loaded model from disk\n",
      "Model: \"sequential\"\n",
      "_________________________________________________________________\n",
      "Layer (type)                 Output Shape              Param #   \n",
      "=================================================================\n",
      "vgg16 (Functional)           (None, 8, 8, 512)         14713536  \n",
      "_________________________________________________________________\n",
      "flatten (Flatten)            (None, 32768)             0         \n",
      "_________________________________________________________________\n",
      "dense (Dense)                (None, 4096)              134221824 \n",
      "_________________________________________________________________\n",
      "dropout (Dropout)            (None, 4096)              0         \n",
      "_________________________________________________________________\n",
      "dense_1 (Dense)              (None, 4096)              16781312  \n",
      "_________________________________________________________________\n",
      "dropout_1 (Dropout)          (None, 4096)              0         \n",
      "_________________________________________________________________\n",
      "dense_2 (Dense)              (None, 4000)              16388000  \n",
      "_________________________________________________________________\n",
      "reshape (Reshape)            (None, 500, 8)            0         \n",
      "=================================================================\n",
      "Total params: 182,104,672\n",
      "Trainable params: 182,104,672\n",
      "Non-trainable params: 0\n",
      "_________________________________________________________________\n"
     ]
    }
   ],
   "source": [
    "#Load model\n",
    "\n",
    "# load json and create model\n",
    "json_file = open(main_path+\"models/v4/vgg-v4/models/model.json\", 'r')\n",
    "model_json = json_file.read()\n",
    "json_file.close()\n",
    "model = model_from_json(model_json)\n",
    "\n",
    "# load weights into new model\n",
    "model.load_weights(main_path+\"models/v4/vgg-v4/models/model.h5\")\n",
    "print(\"Loaded model from disk\")\n",
    "\n",
    "loss=\"categorical_crossentropy\"\n",
    "opt = Adam(lr = 0.0001,epsilon=1e-08) \n",
    "\n",
    "model.compile(loss=loss, optimizer=opt, metrics=['acc', 'mse'])      \n",
    "model.summary() #ver resumen red"
   ]
  },
  {
   "cell_type": "code",
   "execution_count": 5,
   "metadata": {},
   "outputs": [
    {
     "name": "stdout",
     "output_type": "stream",
     "text": [
      " 1/34 [..............................] - ETA: 0sWARNING:tensorflow:Callbacks method `on_predict_batch_end` is slow compared to the batch time (batch time: 0.0062s vs `on_predict_batch_end` time: 0.0446s). Check your callbacks.\n",
      "34/34 [==============================] - 2s 56ms/step\n",
      "34/34 [==============================] - 2s 51ms/step - loss: 1.6271 - acc: 0.4713 - mse: 0.1249\n",
      "MODEL Metric names:  ['loss', 'acc', 'mse']\n",
      "loss: 1.6270664930343628\n",
      "accuracy: 0.4712904989719391\n",
      "mse: 0.1248830184340477\n"
     ]
    }
   ],
   "source": [
    "#Verify model has same metrics\n",
    "\n",
    "y_pred_onehot = model.predict(x_test, verbose=1)\n",
    "y_pred = np.argmax(y_pred_onehot, axis=2)\n",
    "\n",
    "score = model.evaluate(x_test, y_test,verbose=1)\n",
    "print(\"MODEL Metric names: \", model.metrics_names)\n",
    "print(\"loss:\", score[0])\n",
    "print(\"accuracy:\", score[1])\n",
    "print(\"mse:\", score[2])"
   ]
  },
  {
   "cell_type": "code",
   "execution_count": 6,
   "metadata": {},
   "outputs": [
    {
     "name": "stdout",
     "output_type": "stream",
     "text": [
      "2024-03-05 18:12:13.497918\n"
     ]
    }
   ],
   "source": [
    "#Calcular tiempos de predicción por cada par instancia-tiempo de test\n",
    "#(Correr esto se demora 1 hora aprox)\n",
    "\n",
    "now=datetime.datetime.now()\n",
    "print(now)\n",
    "\n",
    "l=int(len(y_pred))\n",
    "t_preds=np.empty(l*500) #Una predicción da los resultados de todos los 500 timesteps\n",
    "\n",
    "#prediccion\n",
    "for i in range(len(x_test)):\n",
    "    #crear np.array de solo esa instancia-timestep\n",
    "    x_i = [x_test[i]]\n",
    "    x_i = np.array(x_i)\n",
    "    \n",
    "    #hacer predicción y medir tiempo\n",
    "    start=time.time()\n",
    "    y_i = model.predict(x_i)\n",
    "    tiempo=time.time()-start\n",
    "    #Por cada instancia, guardar el mismo tiempo de predicción para los 500 timesteps (para obtener el resultado de 1 timestep, el modelo debe obtener la predicción para todos los timesteps, por lo que el tiempo que toma es el mismo para todos los timesteps)\n",
    "    for j in range(500): \n",
    "        t_preds[500*i+j]=tiempo"
   ]
  },
  {
   "cell_type": "code",
   "execution_count": 7,
   "metadata": {},
   "outputs": [
    {
     "name": "stdout",
     "output_type": "stream",
     "text": [
      "[0.1656251  0.1656251  0.1656251  ... 0.07169271 0.07169271 0.07169271]\n"
     ]
    }
   ],
   "source": [
    "#Guardar tiempos de prediccion\n",
    "\n",
    "print(t_preds)\n",
    "f = open(main_path+\"models/results-v4/pred_times/t_pred_vgg-v4.txt\", \"w\")\n",
    "np.savetxt(f, t_preds, delimiter=\" \", fmt=\"%s\")\n",
    "f.close()"
   ]
  },
  {
   "cell_type": "code",
   "execution_count": 8,
   "metadata": {},
   "outputs": [
    {
     "name": "stdout",
     "output_type": "stream",
     "text": [
      "2024-03-05 18:13:32.454523\n"
     ]
    }
   ],
   "source": [
    "now=datetime.datetime.now()\n",
    "print(now)"
   ]
  }
 ],
 "metadata": {
  "colab": {
   "name": "cnn_vgg16",
   "provenance": []
  },
  "kernelspec": {
   "display_name": "Python3.7 TF-2.3.0",
   "language": "python",
   "name": "python3.7-tf2.3.0"
  },
  "language_info": {
   "codemirror_mode": {
    "name": "ipython",
    "version": 3
   },
   "file_extension": ".py",
   "mimetype": "text/x-python",
   "name": "python",
   "nbconvert_exporter": "python",
   "pygments_lexer": "ipython3",
   "version": "3.7.4"
  }
 },
 "nbformat": 4,
 "nbformat_minor": 1
}
